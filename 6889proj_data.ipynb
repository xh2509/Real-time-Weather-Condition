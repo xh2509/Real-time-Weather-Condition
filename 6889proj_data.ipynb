{
  "nbformat": 4,
  "nbformat_minor": 0,
  "metadata": {
    "colab": {
      "name": "6889proj_data.ipynb",
      "provenance": [],
      "collapsed_sections": []
    },
    "kernelspec": {
      "name": "python3",
      "display_name": "Python 3"
    },
    "language_info": {
      "name": "python"
    }
  },
  "cells": [
    {
      "cell_type": "markdown",
      "source": [
        "# Environment Prepare"
      ],
      "metadata": {
        "id": "Q3QWDuhx3FsG"
      }
    },
    {
      "cell_type": "code",
      "execution_count": null,
      "metadata": {
        "colab": {
          "base_uri": "https://localhost:8080/"
        },
        "id": "4OS2LxTSTSE9",
        "outputId": "ad41d737-2561-40df-e1f1-10f4e32ae57e"
      },
      "outputs": [
        {
          "output_type": "stream",
          "name": "stdout",
          "text": [
            "Requirement already satisfied: noaa-sdk in /usr/local/lib/python3.7/dist-packages (0.1.21)\n",
            "Requirement already satisfied: requests>=2.22.0 in /usr/local/lib/python3.7/dist-packages (from noaa-sdk) (2.23.0)\n",
            "Requirement already satisfied: idna<3,>=2.5 in /usr/local/lib/python3.7/dist-packages (from requests>=2.22.0->noaa-sdk) (2.10)\n",
            "Requirement already satisfied: chardet<4,>=3.0.2 in /usr/local/lib/python3.7/dist-packages (from requests>=2.22.0->noaa-sdk) (3.0.4)\n",
            "Requirement already satisfied: certifi>=2017.4.17 in /usr/local/lib/python3.7/dist-packages (from requests>=2.22.0->noaa-sdk) (2021.10.8)\n",
            "Requirement already satisfied: urllib3!=1.25.0,!=1.25.1,<1.26,>=1.21.1 in /usr/local/lib/python3.7/dist-packages (from requests>=2.22.0->noaa-sdk) (1.24.3)\n"
          ]
        }
      ],
      "source": [
        "pip install noaa-sdk"
      ]
    },
    {
      "cell_type": "code",
      "source": [
        "!pip install pyspark py4j"
      ],
      "metadata": {
        "colab": {
          "base_uri": "https://localhost:8080/"
        },
        "id": "jVTzkCPETbnQ",
        "outputId": "d28cb1ef-011c-4a94-ab9e-0759f6934b85"
      },
      "execution_count": null,
      "outputs": [
        {
          "output_type": "stream",
          "name": "stdout",
          "text": [
            "Requirement already satisfied: pyspark in /usr/local/lib/python3.7/dist-packages (3.2.1)\n",
            "Requirement already satisfied: py4j in /usr/local/lib/python3.7/dist-packages (0.10.9.3)\n"
          ]
        }
      ]
    },
    {
      "cell_type": "code",
      "source": [
        "from google.colab import drive\n",
        "drive.mount('/content/drive')"
      ],
      "metadata": {
        "colab": {
          "base_uri": "https://localhost:8080/"
        },
        "id": "jqo2f5tRTb5K",
        "outputId": "19a6df15-9994-4002-adfa-a3475cfdb5dc"
      },
      "execution_count": null,
      "outputs": [
        {
          "output_type": "stream",
          "name": "stdout",
          "text": [
            "Drive already mounted at /content/drive; to attempt to forcibly remount, call drive.mount(\"/content/drive\", force_remount=True).\n"
          ]
        }
      ]
    },
    {
      "cell_type": "code",
      "source": [
        "import sys    \n",
        "path_to_module = '/content/drive/MyDrive/2022Spring/6889ls/final'\n",
        "sys.path.append(path_to_module)"
      ],
      "metadata": {
        "id": "DPCJuRjwmYvv"
      },
      "execution_count": null,
      "outputs": []
    },
    {
      "cell_type": "code",
      "source": [
        "from noaa_sdk import NOAA\n",
        "import random"
      ],
      "metadata": {
        "id": "ByAVeHjcTdRV"
      },
      "execution_count": null,
      "outputs": []
    },
    {
      "cell_type": "code",
      "source": [
        "from pyspark import SparkConf, SparkContext\n",
        "from datetime import datetime\n",
        "import numpy as np\n",
        "conf = SparkConf(\"local\").setAppName(\"myApp\") \n",
        "sc = SparkContext(conf = conf)"
      ],
      "metadata": {
        "id": "LfZGml7hVurv"
      },
      "execution_count": null,
      "outputs": []
    },
    {
      "cell_type": "code",
      "source": [
        "from line_prepare_file import line_prepare\n",
        "from streaming_algo import algo"
      ],
      "metadata": {
        "id": "oJs78rxP3Mft"
      },
      "execution_count": null,
      "outputs": []
    },
    {
      "cell_type": "markdown",
      "source": [
        "# Data preprocess"
      ],
      "metadata": {
        "id": "j0a7cCgK3lOH"
      }
    },
    {
      "cell_type": "code",
      "source": [
        "zipcode_list = ['36043', '85034', '72223', '95837', '80294', '06101', '19808', '20001', '32310', '30002', '96817', '83704', '01020', '70801', '46077', '50047', '66546', '40601', '04330', '21401', '02108', '48864', '55101', '39056', '65043', '59601', '68501', '89403', '03301', '08609', '87509','10001','27007','58501','43085','73132','97209','19050','02841','29201','57701','37201','77001','84101','05702','23225','98101','25301','53201','82601','00601']\n",
        "states_list = ['Alabama','Arizona','Arkansas','California','Colorado','Connecticut','Delaware','District Of Columbia','Florida','Georgia','Hawaii','Idaho','Illinois','Indiana','Iowa','Kansas','Kentucky','Louisiana','Maine','Maryland','Massachusetts','Michigan','Minnesota','Mississippi','Missouri','Montana','Nebraska','Nevada','New Hampshire','New Jersey','New Mexico','New York','North Carolina','North Dakota','Ohio','Oklahoma','Oregon','Pennsylvania','Rhode Island','South Carolina','South Dakota','Tennessee','Texas','Utah','Vermont','Virginia','Washington','West Virginia','Wisconsin','Wyoming','Puerto Rico']"
      ],
      "metadata": {
        "id": "jWk_SfRb3f_-"
      },
      "execution_count": null,
      "outputs": []
    },
    {
      "cell_type": "code",
      "source": [
        "def obtain(zipcode):\n",
        "    raw_data = []\n",
        "    for i in range(24):\n",
        "        raw_data.append(NOAA().get_forecasts(zipcode, 'US')[i])\n",
        "\n",
        "    feature_list = ['number','startTime','endTime','shortForecast','temperature','temperatureUnit','windDirection','windSpeed']\n",
        "    get_data = []\n",
        "\n",
        "    for data in raw_data:\n",
        "        tmp = []\n",
        "        for fea in feature_list:\n",
        "            tmp.append(data.get(fea))\n",
        "        get_data.append(tmp)\n",
        "    \n",
        "    with open('/content/drive/MyDrive/2022Spring/6889ls/final/test_data.txt', 'w') as f:\n",
        "        for item in get_data:\n",
        "            f.write(\"%s\\n\" % item)\n",
        "    \n",
        "    line=sc.textFile('/content/drive/MyDrive/2022Spring/6889ls/final/test_data.txt')\n",
        "    return line"
      ],
      "metadata": {
        "id": "uCNDYUUf7fB6"
      },
      "execution_count": null,
      "outputs": []
    },
    {
      "cell_type": "code",
      "source": [
        "result=[]\n",
        "\n",
        "for zipcode in zipcode_list:\n",
        "  line = obtain(zipcode)\n",
        "  pspdata = line_prepare(line)\n",
        "  result.append(algo(pspdata))\n",
        "\n",
        "output = sc.parallelize(result)"
      ],
      "metadata": {
        "colab": {
          "base_uri": "https://localhost:8080/"
        },
        "id": "t3zTtPGL3oKa",
        "outputId": "a0219fc2-00f5-461c-9de2-2f70292ad7f9"
      },
      "execution_count": null,
      "outputs": [
        {
          "output_type": "stream",
          "name": "stdout",
          "text": [
            "Previous request failed with code 500. Retrying...\n",
            "Previous Response: {\n",
            "    \"correlationId\": \"4fe4227\",\n",
            "    \"title\": \"Unexpected Problem\",\n",
            "    \"type\": \"https://api.weather.gov/problems/UnexpectedProblem\",\n",
            "    \"status\": 500,\n",
            "    \"detail\": \"An unexpected problem has occurred.\",\n",
            "    \"instance\": \"https://api.weather.gov/requests/4fe4227\"\n",
            "}\n",
            "Previous request failed with code 500. Retrying...\n",
            "Previous Response: {\n",
            "    \"correlationId\": \"5dac3348\",\n",
            "    \"title\": \"Unexpected Problem\",\n",
            "    \"type\": \"https://api.weather.gov/problems/UnexpectedProblem\",\n",
            "    \"status\": 500,\n",
            "    \"detail\": \"An unexpected problem has occurred.\",\n",
            "    \"instance\": \"https://api.weather.gov/requests/5dac3348\"\n",
            "}\n",
            "Previous request failed with code 500. Retrying...\n",
            "Previous Response: {\n",
            "    \"correlationId\": \"48ec4c82\",\n",
            "    \"title\": \"Unexpected Problem\",\n",
            "    \"type\": \"https://api.weather.gov/problems/UnexpectedProblem\",\n",
            "    \"status\": 500,\n",
            "    \"detail\": \"An unexpected problem has occurred.\",\n",
            "    \"instance\": \"https://api.weather.gov/requests/48ec4c82\"\n",
            "}\n",
            "Previous request failed with code 500. Retrying...\n",
            "Previous Response: {\n",
            "    \"correlationId\": \"330217e8\",\n",
            "    \"title\": \"Unexpected Problem\",\n",
            "    \"type\": \"https://api.weather.gov/problems/UnexpectedProblem\",\n",
            "    \"status\": 500,\n",
            "    \"detail\": \"An unexpected problem has occurred.\",\n",
            "    \"instance\": \"https://api.weather.gov/requests/330217e8\"\n",
            "}\n",
            "Previous request failed with code 500. Retrying...\n",
            "Previous Response: {\n",
            "    \"correlationId\": \"5163d05\",\n",
            "    \"title\": \"Unexpected Problem\",\n",
            "    \"type\": \"https://api.weather.gov/problems/UnexpectedProblem\",\n",
            "    \"status\": 500,\n",
            "    \"detail\": \"An unexpected problem has occurred.\",\n",
            "    \"instance\": \"https://api.weather.gov/requests/5163d05\"\n",
            "}\n",
            "Previous request failed with code 503. Retrying...\n",
            "Previous Response: {\n",
            "    \"correlationId\": \"2ce009c8\",\n",
            "    \"title\": \"Service Unavailable\",\n",
            "    \"type\": \"https://api.weather.gov/problems/ServiceUnavailable\",\n",
            "    \"status\": 503,\n",
            "    \"detail\": \"An upstream data source is temporarily unavailable. Please try again later.\",\n",
            "    \"instance\": \"https://api.weather.gov/requests/2ce009c8\"\n",
            "}\n",
            "Previous request failed with code 500. Retrying...\n",
            "Previous Response: {\n",
            "    \"correlationId\": \"5dbcea5a\",\n",
            "    \"title\": \"Unexpected Problem\",\n",
            "    \"type\": \"https://api.weather.gov/problems/UnexpectedProblem\",\n",
            "    \"status\": 500,\n",
            "    \"detail\": \"An unexpected problem has occurred.\",\n",
            "    \"instance\": \"https://api.weather.gov/requests/5dbcea5a\"\n",
            "}\n"
          ]
        }
      ]
    },
    {
      "cell_type": "code",
      "source": [
        "from pyspark.sql import SparkSession\n",
        "spark = SparkSession(sc)\n",
        "\n",
        "df = spark.createDataFrame(output,[\"Weather\",\"MinTemperature\",\"MaxTemperature\",\"MinWindSpeed\",\"MaxWindSpeed\",\"WindDirection\"])\n",
        "df.write.format('json').save('/content/drive/MyDrive/2022Spring/6889ls/final/test.json')"
      ],
      "metadata": {
        "id": "kBOPdqte5Wpg"
      },
      "execution_count": null,
      "outputs": []
    },
    {
      "cell_type": "code",
      "source": [
        "df.show()"
      ],
      "metadata": {
        "colab": {
          "base_uri": "https://localhost:8080/"
        },
        "id": "QdZsN4eE7gxJ",
        "outputId": "6e18a6d7-9642-4881-e081-2a85ad2eda13"
      },
      "execution_count": null,
      "outputs": [
        {
          "output_type": "stream",
          "name": "stdout",
          "text": [
            "+--------------------+-----------------+-----------------+-----------------+-----------------+-------------+\n",
            "|             Weather|MinTemperature(F)|MaxTemperature(F)|MinWindSpeed(mph)|MaxWindSpeed(mph)|WindDirection|\n",
            "+--------------------+-----------------+-----------------+-----------------+-----------------+-------------+\n",
            "|        Mostly Clear|             67.0|             89.0|              0.0|              5.0|            W|\n",
            "|               Sunny|             66.0|             92.0|              0.0|             10.0|          WSW|\n",
            "|        Partly Sunny|             64.0|             73.0|              5.0|             10.0|            E|\n",
            "|               Sunny|             52.0|             88.0|              3.0|             13.0|            S|\n",
            "|        Partly Sunny|             39.0|             48.0|              5.0|             13.0|            N|\n",
            "| Chance Rain Showers|             49.0|             63.0|              3.0|              9.0|            N|\n",
            "|Slight Chance Rai...|             55.0|             71.0|              5.0|             10.0|            N|\n",
            "|Scattered Showers...|             56.0|             78.0|              5.0|              9.0|            N|\n",
            "|        Areas Of Fog|             67.0|             89.0|              0.0|             10.0|           SW|\n",
            "|        Mostly Sunny|             64.0|             84.0|              0.0|             10.0|            W|\n",
            "|Scattered Rain Sh...|             74.0|             82.0|             20.0|             22.0|          ENE|\n",
            "|        Mostly Clear|             49.0|             70.0|              1.0|              9.0|           SE|\n",
            "|       Mostly Cloudy|             48.0|             61.0|              3.0|              9.0|            N|\n",
            "|        Mostly Sunny|             70.0|             89.0|              5.0|             15.0|            S|\n",
            "|       Mostly Cloudy|             51.0|             60.0|              3.0|              9.0|            E|\n",
            "|       Mostly Cloudy|             49.0|             62.0|              6.0|             14.0|            E|\n",
            "|Chance Showers An...|             54.0|             58.0|              5.0|             15.0|            E|\n",
            "|       Mostly Cloudy|             53.0|             66.0|              2.0|              7.0|            N|\n",
            "|   Chance Light Rain|             44.0|             56.0|              0.0|             10.0|            N|\n",
            "|Isolated Showers ...|             56.0|             74.0|              2.0|              8.0|            N|\n",
            "+--------------------+-----------------+-----------------+-----------------+-----------------+-------------+\n",
            "only showing top 20 rows\n",
            "\n"
          ]
        }
      ]
    },
    {
      "cell_type": "code",
      "source": [
        ""
      ],
      "metadata": {
        "id": "ucLbkde37oGr"
      },
      "execution_count": null,
      "outputs": []
    }
  ]
}